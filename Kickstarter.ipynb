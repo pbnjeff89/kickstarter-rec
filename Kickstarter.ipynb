{
 "cells": [
  {
   "cell_type": "markdown",
   "metadata": {},
   "source": [
    "# What is Kickstarter?\n",
    "\n",
    "In short, it's a website that allows projects to be funded. These projects generally fall under the following categories: film, design & tech, arts, comics & illustrations, games, food & craft, music, or publishing.\n",
    "\n",
    "There's a bunch of cool stuff there, like [a photobook of a former Los Alamos National Lab employee who became an antinuclear activist](https://www.kickstarter.com/projects/2005474130/atomic-ed-a-photobook-by-janire-najera?ref=home_featured) or [a rogue-like game with an infinite, procedurally-generated world](https://www.kickstarter.com/projects/360951081/achaem-infinite-roguelike-with-destructible-world?ref=recs&ref=discovery). (N.b. I am not affiliated with either project, but I just scrolled through random projects to see what's out there).\n",
    "\n",
    "# How do you get funding?\n",
    "\n",
    "Well, that's the main thing I'd like to answer. Intuitively, you would think that if a project is \"cool\" enough (whatever that means) then it ought to get funded. Digging deeper, you'd have to answer what \"cool enough\" actually means. I'd think that to define that more fully, you'd actually have to see how the project is advertised. For example, there's a very large difference between describing a drone as a \"flying robot\" vs a \"robot with multi-directional flight capabilities and lasers that shoot sharks.\" Here, it should be obvious which is the more convincing, enticing, and cooler of the two projects (and if you can't tell, then I apologize for your boring life). Thankfully, that data was recorded and will, of course, be helpful. There are other data such as the launch date and deadline. I won't look at data such as the amount actually pledged to the project because of course a project is funded if that amount is over the target goal. It might be interesting to see if the other data determines how much money will be raised relative to the goal, but that's a question for another time. Remember that generally we want to use information that was true prior to the event of deciding if the project was funded, so only some columns will be used."
   ]
  },
  {
   "cell_type": "code",
   "execution_count": 1,
   "metadata": {},
   "outputs": [
    {
     "name": "stderr",
     "output_type": "stream",
     "text": [
      "c:\\users\\jeff\\documents\\data_sci\\lib\\site-packages\\ipykernel\\parentpoller.py:116: UserWarning: Parent poll failed.  If the frontend dies,\n",
      "                the kernel may be left running.  Please let us know\n",
      "                about your system (bitness, Python, etc.) at\n",
      "                ipython-dev@scipy.org\n",
      "  ipython-dev@scipy.org\"\"\")\n"
     ]
    }
   ],
   "source": [
    "import pandas as pd"
   ]
  },
  {
   "cell_type": "markdown",
   "metadata": {},
   "source": [
    "# Data cleaning\n",
    "\n",
    "There are some extra columns in here; I'm not exactly sure they are but they don't seem to hold useful information so I'm taking them out. A little detail to notice is that the encoding is actually ```latin1``` for some reason so use that if the ```utf-8``` encoding doesn't seem to work. (N.b. I manually fixed the column names in the ```2016``` csv file because there were extra spaces. It makes the ```read_csv``` statements more symmetric. Just a personal preference)."
   ]
  },
  {
   "cell_type": "code",
   "execution_count": 2,
   "metadata": {
    "scrolled": true
   },
   "outputs": [],
   "source": [
    "fields = ['name','category','main_category','deadline','goal','launched','backers','state']\n",
    "\n",
    "\n",
    "df_201612 = pd.read_csv('ks-projects-201612.csv', sep=',', header=0, encoding='latin1', usecols=fields)\n",
    "df_201801 = pd.read_csv('ks-projects-201801.csv', sep=',', header=0, encoding='latin1', usecols=fields)"
   ]
  },
  {
   "cell_type": "markdown",
   "metadata": {},
   "source": [
    "Later I plan to examine the difference in the launch and deadline times so I'm converting the relevant columns into something usable. Some values in the column are not times so I coerce them into ```NaT```."
   ]
  },
  {
   "cell_type": "code",
   "execution_count": 3,
   "metadata": {},
   "outputs": [],
   "source": [
    "df_201612['deadline'] = pd.to_datetime(df_201612['deadline'], errors='coerce')\n",
    "df_201612['launched'] = pd.to_datetime(df_201612['launched'], errors='coerce')"
   ]
  },
  {
   "cell_type": "code",
   "execution_count": 4,
   "metadata": {},
   "outputs": [],
   "source": [
    "df_201801['deadline'] = pd.to_datetime(df_201801['deadline'], errors='coerce')\n",
    "df_201801['launched'] = pd.to_datetime(df_201801['launched'], errors='coerce')"
   ]
  },
  {
   "cell_type": "markdown",
   "metadata": {},
   "source": [
    "Extra filtering for the ```2016``` dataframe because there are some ```NaT```s in there."
   ]
  },
  {
   "cell_type": "code",
   "execution_count": 5,
   "metadata": {},
   "outputs": [],
   "source": [
    "df_201612 = df_201612.dropna()\n",
    "\n",
    "df = pd.concat([df_201612,df_201801])"
   ]
  },
  {
   "cell_type": "markdown",
   "metadata": {},
   "source": [
    "I'll do a bit more cleaning up here.\n",
    "\n",
    "I'll consider the positive examples to be the ones labeled by ```successful``` and the negative examples to be the ones labeled by ```failed``` and ```canceled```. Later, I think I will consider ```suspended``` projects to be a part of negative examples, though those seem to be cases that break some rules on Kickstarter. I'm going to make a guess here and say that the creators of those particular projects are smart enough to disguise the product with a name that doesn't raise any suspicions.\n",
    "\n",
    "Additionally, I'm going to combine the ```deadline``` and ```launched``` feature into ```duration``` to explore how a time limitation can affect the success of a project. It might be interesting to observe how the ```deadline``` or ```launched``` dates can affect the success. While I expect that people who are into the whole Kickstarter thing might check regularly, it is possible that there actually is some cyclic structure."
   ]
  },
  {
   "cell_type": "code",
   "execution_count": 6,
   "metadata": {},
   "outputs": [],
   "source": [
    "df.loc[(df['state'] == 'failed') | (df['state'] == 'canceled'), 'state'] = 1\n",
    "df.loc[df['state'] == 'successful', 'state'] = 0\n",
    "\n",
    "df['duration'] = (df['deadline'] - df['launched']).dt.days\n",
    "\n",
    "df['goal'] = df['goal'].astype(float)"
   ]
  },
  {
   "cell_type": "markdown",
   "metadata": {},
   "source": [
    "I'm splitting up the data frames into the positive and negative examples to see how individual features can affect the success of the Kickstarter project."
   ]
  },
  {
   "cell_type": "code",
   "execution_count": 7,
   "metadata": {
    "scrolled": true
   },
   "outputs": [],
   "source": [
    "df_bad = df[df['state'] == 0].drop(columns='state')\n",
    "df_good = df[df['state'] == 1].drop(columns='state')"
   ]
  },
  {
   "cell_type": "code",
   "execution_count": 8,
   "metadata": {},
   "outputs": [
    {
     "data": {
      "text/html": [
       "<div>\n",
       "<style scoped>\n",
       "    .dataframe tbody tr th:only-of-type {\n",
       "        vertical-align: middle;\n",
       "    }\n",
       "\n",
       "    .dataframe tbody tr th {\n",
       "        vertical-align: top;\n",
       "    }\n",
       "\n",
       "    .dataframe thead th {\n",
       "        text-align: right;\n",
       "    }\n",
       "</style>\n",
       "<table border=\"1\" class=\"dataframe\">\n",
       "  <thead>\n",
       "    <tr style=\"text-align: right;\">\n",
       "      <th></th>\n",
       "      <th>name</th>\n",
       "      <th>category</th>\n",
       "      <th>main_category</th>\n",
       "      <th>deadline</th>\n",
       "      <th>goal</th>\n",
       "      <th>launched</th>\n",
       "      <th>backers</th>\n",
       "      <th>duration</th>\n",
       "    </tr>\n",
       "  </thead>\n",
       "  <tbody>\n",
       "    <tr>\n",
       "      <th>4</th>\n",
       "      <td>Monarch Espresso Bar</td>\n",
       "      <td>Restaurants</td>\n",
       "      <td>Food</td>\n",
       "      <td>2016-04-01 13:38:27</td>\n",
       "      <td>50000.0</td>\n",
       "      <td>2016-02-26 13:38:27</td>\n",
       "      <td>224</td>\n",
       "      <td>35</td>\n",
       "    </tr>\n",
       "    <tr>\n",
       "      <th>5</th>\n",
       "      <td>Support Solar Roasted Coffee &amp; Green Energy!  ...</td>\n",
       "      <td>Food</td>\n",
       "      <td>Food</td>\n",
       "      <td>2014-12-21 18:30:44</td>\n",
       "      <td>1000.0</td>\n",
       "      <td>2014-12-01 18:30:44</td>\n",
       "      <td>16</td>\n",
       "      <td>20</td>\n",
       "    </tr>\n",
       "    <tr>\n",
       "      <th>10</th>\n",
       "      <td>Lisa Lim New CD!</td>\n",
       "      <td>Indie Rock</td>\n",
       "      <td>Music</td>\n",
       "      <td>2013-04-08 06:42:58</td>\n",
       "      <td>12500.0</td>\n",
       "      <td>2013-03-09 06:42:58</td>\n",
       "      <td>100</td>\n",
       "      <td>30</td>\n",
       "    </tr>\n",
       "    <tr>\n",
       "      <th>16</th>\n",
       "      <td>Mike Corey's Darkness &amp; Light Album</td>\n",
       "      <td>Music</td>\n",
       "      <td>Music</td>\n",
       "      <td>2012-08-17 14:11:32</td>\n",
       "      <td>250.0</td>\n",
       "      <td>2012-08-02 14:11:32</td>\n",
       "      <td>7</td>\n",
       "      <td>15</td>\n",
       "    </tr>\n",
       "    <tr>\n",
       "      <th>18</th>\n",
       "      <td>CMUK. Shoes: Take on Life Feet First.</td>\n",
       "      <td>Fashion</td>\n",
       "      <td>Fashion</td>\n",
       "      <td>2013-12-30 07:06:11</td>\n",
       "      <td>20000.0</td>\n",
       "      <td>2013-11-25 07:06:11</td>\n",
       "      <td>624</td>\n",
       "      <td>35</td>\n",
       "    </tr>\n",
       "  </tbody>\n",
       "</table>\n",
       "</div>"
      ],
      "text/plain": [
       "                                                 name     category  \\\n",
       "4                                Monarch Espresso Bar  Restaurants   \n",
       "5   Support Solar Roasted Coffee & Green Energy!  ...         Food   \n",
       "10                                   Lisa Lim New CD!   Indie Rock   \n",
       "16                Mike Corey's Darkness & Light Album        Music   \n",
       "18              CMUK. Shoes: Take on Life Feet First.      Fashion   \n",
       "\n",
       "   main_category            deadline     goal            launched backers  \\\n",
       "4           Food 2016-04-01 13:38:27  50000.0 2016-02-26 13:38:27     224   \n",
       "5           Food 2014-12-21 18:30:44   1000.0 2014-12-01 18:30:44      16   \n",
       "10         Music 2013-04-08 06:42:58  12500.0 2013-03-09 06:42:58     100   \n",
       "16         Music 2012-08-17 14:11:32    250.0 2012-08-02 14:11:32       7   \n",
       "18       Fashion 2013-12-30 07:06:11  20000.0 2013-11-25 07:06:11     624   \n",
       "\n",
       "    duration  \n",
       "4         35  \n",
       "5         20  \n",
       "10        30  \n",
       "16        15  \n",
       "18        35  "
      ]
     },
     "execution_count": 8,
     "metadata": {},
     "output_type": "execute_result"
    }
   ],
   "source": [
    "df_bad.head()"
   ]
  },
  {
   "cell_type": "markdown",
   "metadata": {},
   "source": [
    "# Data exploration"
   ]
  },
  {
   "cell_type": "code",
   "execution_count": 9,
   "metadata": {},
   "outputs": [],
   "source": [
    "import matplotlib.pyplot as plt"
   ]
  },
  {
   "cell_type": "code",
   "execution_count": 10,
   "metadata": {},
   "outputs": [],
   "source": [
    "bins = [0,1000,2000,3000,4000,5000,6000,7000,8000,9000,10000]"
   ]
  },
  {
   "cell_type": "code",
   "execution_count": 11,
   "metadata": {},
   "outputs": [
    {
     "data": {
      "image/png": "[encoded data removed]",
      "text/plain": [
       "<Figure size 432x288 with 1 Axes>"
      ]
     },
     "metadata": {},
     "output_type": "display_data"
    }
   ],
   "source": [
    "fig, ax = plt.subplots()\n",
    "\n",
    "ax.set_xlim(0, 1e6)\n",
    "ax.set_ylim(0, 4e5)\n",
    "\n",
    "ax.set_xlabel('Cost')\n",
    "ax.set_ylabel('Number of failures')\n",
    "\n",
    "bad_axes = df_bad.hist(column='goal', ax=ax, bins=50)"
   ]
  },
  {
   "cell_type": "code",
   "execution_count": 12,
   "metadata": {},
   "outputs": [
    {
     "data": {
      "image/png": "[encoded data removed]",
      "text/plain": [
       "<Figure size 432x288 with 1 Axes>"
      ]
     },
     "metadata": {},
     "output_type": "display_data"
    }
   ],
   "source": [
    "fig, ax = plt.subplots()\n",
    "\n",
    "ax.set_xlim(0, 1e6)\n",
    "ax.set_ylim(0, 4e5)\n",
    "\n",
    "ax.set_xlabel('Cost')\n",
    "ax.set_ylabel('Number of successes')\n",
    "\n",
    "good_axes = df_good.hist(column='goal', ax=ax, bins=2500)"
   ]
  },
  {
   "cell_type": "markdown",
   "metadata": {},
   "source": [
    "Plotting the positive and negative examples on the same scale, I was personally a bit surprised that the positive examples showed that there were actually quite a number of projects that were funded even with higher costs. In terms of distributions, maybe this is not so surprising because by having more positive samples the chances of finding an outlier increases. I think a more likely explanation would be that the creators of a high-cost project have good knowledge of what people would back (I would reference the [Myst 25th Anniversary Collection](https://www.kickstarter.com/projects/1252280491/myst-25th-anniversary-collection) because it was an extremely popular game and it appeals to a sense of nostalgia) and so the risk of starting a high cost project is actually almost none at all (side note: the total funding for the Myst Kickstarter was at $2.8 million, about 11 times more than the goal).\n",
    "\n",
    "If you consider the ratios of the successful to unsuccessful Kickstarters, you'll see that the higher-cost projects actually have a much better chance of being funded, probably for reasons like I mentioned above. What this tells me is that a huge difference probably lies somewhere in the low-cost projects. Maybe the low-cost projects tend to be that way because the ideas in those Kickstarters are not particularly well thought-out. Or maybe they are well thought-out, but the creator is underselling the product, undervaluing it, and something about the description and/or title of the Kickstarter is a signal to the backers that the project is not worth selling.\n",
    "\n",
    "Another general principle would be that Kickstarters that are pretty niche will not have as many backers, and therefore not as much money to go through with the project. Kickstarter projects that have more general appeal (e.g. things that make food, games that multiple people can play, or even cool tech gadgets that have great utility) would more likely get funded. Things that are more artsy may only appeal to a small group of people, though there are lots of artsy things out there which are popular because there's some sort of reference to popular culture (and on that note, there are definitely tech-oriented Kickstarters which are totally niche and may barely get funding or fall short of its goal).\n",
    "\n",
    "The following is some exploration in the categories of the data."
   ]
  },
  {
   "cell_type": "code",
   "execution_count": null,
   "metadata": {},
   "outputs": [],
   "source": []
  }
 ],
 "metadata": {
  "kernelspec": {
   "display_name": "Python 3",
   "language": "python",
   "name": "python3"
  },
  "language_info": {
   "codemirror_mode": {
    "name": "ipython",
    "version": 3
   },
   "file_extension": ".py",
   "mimetype": "text/x-python",
   "name": "python",
   "nbconvert_exporter": "python",
   "pygments_lexer": "ipython3",
   "version": "3.7.0"
  }
 },
 "nbformat": 4,
 "nbformat_minor": 2
}
